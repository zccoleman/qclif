{
 "cells": [
  {
   "cell_type": "code",
   "execution_count": 1,
   "id": "1cdb0252",
   "metadata": {},
   "outputs": [
    {
     "name": "stdout",
     "output_type": "stream",
     "text": [
      "(<class 'numpy.ndarray'>,)\n",
      "{'__module__': 'qclif._qclifBase.dnary_array', '__qualname__': 'DnaryArrayBase', '__firstlineno__': 63, '__doc__': 'Base class for d-nary integer numpy arrays (with d prime) that are either 1d or 2d square arrays. \\n\\nDo not create instances of this class; instead, subclass this class, setting a class property for d, then create instances of that subclass like so:\\n```\\nclass DnaryArrayD3(PrimeDnaryArrayBase):\\n    d=3\\ninstance = DnaryArrayD3([1,2,0,1])\\n```\\nAccepts any data acceptable by np.array(...). \\n', '_validate_prime': False, 'd': <property object at 0x000001CB2F03D990>, '__new__': <function DnaryArrayBase.__new__ at 0x000001CB2F041800>, '__array_finalize__': <function DnaryArrayBase.__array_finalize__ at 0x000001CB2F0418A0>, '__array_ufunc__': <function DnaryArrayBase.__array_ufunc__ at 0x000001CB2F041940>, 'is_matrix': <property object at 0x000001CB2F03DA30>, 'is_vector': <property object at 0x000001CB2F03DA80>, 'dnary_inverse': <classmethod(<function DnaryArrayBase.dnary_inverse at 0x000001CB2F041B20>)>, 'int_to_dnary': <classmethod(<function DnaryArrayBase.int_to_dnary at 0x000001CB2F041BC0>)>, 'dnary_to_int': <classmethod(<function DnaryArrayBase.dnary_to_int at 0x000001CB2F041C60>)>, 'is_nonzero': <function DnaryArrayBase.is_nonzero at 0x000001CB2F041D00>, 'is_zero': <function DnaryArrayBase.is_zero at 0x000001CB2F041DA0>, 'random_array': <classmethod(<function DnaryArrayBase.random_array at 0x000001CB2F041E40>)>, 'eye': <classmethod(<function DnaryArrayBase.eye at 0x000001CB2F041EE0>)>, 'zeros': <classmethod(<function DnaryArrayBase.zeros at 0x000001CB2F041F80>)>, 'basis_vector': <classmethod(<function DnaryArrayBase.basis_vector at 0x000001CB2F042020>)>, 'determinant': <function DnaryArrayBase.determinant at 0x000001CB2F0420C0>, 'det': <function DnaryArrayBase.det at 0x000001CB2F042160>, 'is_invertible': <function DnaryArrayBase.is_invertible at 0x000001CB2F042200>, 'mod_matrix_inv': <function DnaryArrayBase.mod_matrix_inv at 0x000001CB2F0422A0>, 'inv': <function DnaryArrayBase.inv at 0x000001CB2F042340>, '_mod_matrix_adjugate': <function DnaryArrayBase._mod_matrix_adjugate at 0x000001CB2F0423E0>, '_matrix_cofactor': <function DnaryArrayBase._matrix_cofactor at 0x000001CB2F042480>, '_matrix_minor': <function DnaryArrayBase._matrix_minor at 0x000001CB2F042520>, '_matrix_delete_rowcol': <function DnaryArrayBase._matrix_delete_rowcol at 0x000001CB2F0425C0>, '__static_attributes__': (), '__classcell__': <cell at 0x000001CB2EFF05B0: empty>}\n",
      "(<class 'qclif._qclifBase.dnary_array.DnaryArrayBase'>,)\n",
      "{'__module__': 'qclif._qclifBase.symplectic_array_base', '__qualname__': 'SymplecticArrayBase', '__firstlineno__': 6, '__doc__': 'Class implementing the logic of symplectic vectors and matrices such as inner products and embeddings.\\n    ', 'n': <property object at 0x000001CB2ED166B0>, 'nn': <property object at 0x000001CB2CE0DEE0>, 'LambdaN': <classmethod(<function SymplecticArrayBase.LambdaN at 0x000001CB2F0427A0>)>, 'Lambda': <property object at 0x000001CB2CE0E750>, 'is_symplectic_pair_with': <function SymplecticArrayBase.is_symplectic_pair_with at 0x000001CB2F0428E0>, 'is_symplectic_matrix': <function SymplecticArrayBase.is_symplectic_matrix at 0x000001CB2F042980>, 'inner_product_with': <function SymplecticArrayBase.inner_product_with at 0x000001CB2F042A20>, '__or__': <function SymplecticArrayBase.__or__ at 0x000001CB2F042AC0>, 'embed_symplectic': <function SymplecticArrayBase.embed_symplectic at 0x000001CB2F042B60>, 'inner_product': <classmethod(<function SymplecticArrayBase.inner_product at 0x000001CB2F042C00>)>, 'is_symplectic_pair': <classmethod(<function SymplecticArrayBase.is_symplectic_pair at 0x000001CB2F042CA0>)>, '__static_attributes__': ()}\n",
      "(<class 'qclif._qclifBase.symplectic_array_base.SymplecticArrayBase'>,)\n",
      "{'__module__': 'qclif.clifford_base', '__qualname__': '_RandomSymplectic', '__firstlineno__': 172, 'symplectic_group_size': <classmethod(<function _RandomSymplectic.symplectic_group_size at 0x000001CB2F043100>)>, 'random_symplectic': <classmethod(<function _RandomSymplectic.random_symplectic at 0x000001CB2F0431A0>)>, 'from_index': <classmethod(<function _RandomSymplectic.from_index at 0x000001CB2F043240>)>, '__static_attributes__': ()}\n",
      "(<class 'qclif._qclifBase.symplectic_array_base.SymplecticArrayBase'>,)\n",
      "{'__module__': 'qclif.clifford_base', '__qualname__': '_SpecialClifford', '__firstlineno__': 305, 'identity': <classmethod(<function _SpecialClifford.identity at 0x000001CB2F0434C0>)>, 'clif_swap': <classmethod(<function _SpecialClifford.clif_swap at 0x000001CB2F043560>)>, 'clif_mult': <classmethod(<function _SpecialClifford.clif_mult at 0x000001CB2F043600>)>, 'clif_csum': <classmethod(<function _SpecialClifford.clif_csum at 0x000001CB2F0436A0>)>, 'clif_phase': <classmethod(<function _SpecialClifford.clif_phase at 0x000001CB2F043740>)>, 'clif_phase_inverse': <classmethod(<function _SpecialClifford.clif_phase_inverse at 0x000001CB2F0437E0>)>, 'clif_fourier': <classmethod(<function _SpecialClifford.clif_fourier at 0x000001CB2F043880>)>, 'clif_fourier_inv': <classmethod(<function _SpecialClifford.clif_fourier_inv at 0x000001CB2F043920>)>, '__static_attributes__': ()}\n",
      "(<class 'qclif.clifford_base._SpecialClifford'>,)\n",
      "{'__module__': 'qclif.clifford_base', '__qualname__': '_DecomposeClifford', '__firstlineno__': 463, 'decompose': <function _DecomposeClifford.decompose at 0x000001CB2F0439C0>, '_apply_operator': <function _DecomposeClifford._apply_operator at 0x000001CB2F043A60>, '_get_ii_nonzero': <function _DecomposeClifford._get_ii_nonzero at 0x000001CB2F043B00>, '_get_nonzero_ii_to_one': <function _DecomposeClifford._get_nonzero_ii_to_one at 0x000001CB2F043BA0>, '_get_first_n_rows_except_i_to_zero': <function _DecomposeClifford._get_first_n_rows_except_i_to_zero at 0x000001CB2F043C40>, '_get_i_n_to_zero': <function _DecomposeClifford._get_i_n_to_zero at 0x000001CB2F043CE0>, '_get_lower_block_to_zero': <function _DecomposeClifford._get_lower_block_to_zero at 0x000001CB2F043D80>, '_get_column_i_to_identity': <function _DecomposeClifford._get_column_i_to_identity at 0x000001CB2F043E20>, '_get_column_i_n_to_identity': <function _DecomposeClifford._get_column_i_n_to_identity at 0x000001CB2F043EC0>, '__static_attributes__': ('operators',)}\n",
      "(<class 'qclif.clifford_base._RandomSymplectic'>, <class 'qclif.clifford_base._DecomposeClifford'>, <class 'qclif.clifford_base._CliffordValidation'>)\n",
      "{'__module__': 'qclif.clifford_base', '__qualname__': 'CliffordBase', '__firstlineno__': 656, '_validate_prime': True, 'clifford_group_size': <classmethod(<function CliffordBase.clifford_group_size at 0x000001CB2F060040>)>, '__static_attributes__': ()}\n"
     ]
    }
   ],
   "source": [
    "from context import qclif\n",
    "from qclif._qclifBase.validation import validate_primes"
   ]
  },
  {
   "cell_type": "code",
   "execution_count": 4,
   "id": "2c6de321",
   "metadata": {},
   "outputs": [
    {
     "name": "stdout",
     "output_type": "stream",
     "text": [
      "(<class 'qclif.clifford_base.CliffordBase'>,)\n",
      "{'__module__': '__main__', '__qualname__': 'CD5', '__firstlineno__': 1, 'd': 4, '__static_attributes__': ()}\n"
     ]
    },
    {
     "ename": "ValueError",
     "evalue": "('Input must be prime', 4)",
     "output_type": "error",
     "traceback": [
      "\u001b[31m---------------------------------------------------------------------------\u001b[39m",
      "\u001b[31mValueError\u001b[39m                                Traceback (most recent call last)",
      "\u001b[36mCell\u001b[39m\u001b[36m \u001b[39m\u001b[32mIn[4]\u001b[39m\u001b[32m, line 1\u001b[39m\n\u001b[32m----> \u001b[39m\u001b[32m1\u001b[39m \u001b[38;5;28;43;01mclass\u001b[39;49;00m\u001b[38;5;250;43m \u001b[39;49m\u001b[34;43;01mCD5\u001b[39;49;00m\u001b[43m(\u001b[49m\u001b[43mqclif\u001b[49m\u001b[43m.\u001b[49m\u001b[43mCliffordBase\u001b[49m\u001b[43m)\u001b[49m\u001b[43m:\u001b[49m\n\u001b[32m      2\u001b[39m \u001b[43m    \u001b[49m\u001b[38;5;66;43;03m# _validate_prime=False\u001b[39;49;00m\n\u001b[32m      3\u001b[39m \u001b[43m    \u001b[49m\u001b[43md\u001b[49m\u001b[43m=\u001b[49m\u001b[32;43m4\u001b[39;49m\n",
      "\u001b[36mFile \u001b[39m\u001b[32mc:\\Users\\zacat\\Documents\\Python Scripts\\qclif\\qclif\\_qclifBase\\dnary_array.py:36\u001b[39m, in \u001b[36mDNaryMeta.__new__\u001b[39m\u001b[34m(cls, clsname, bases, attrs)\u001b[39m\n\u001b[32m     33\u001b[39m         validate_prime=\u001b[38;5;28;01mFalse\u001b[39;00m\n\u001b[32m     35\u001b[39m \u001b[38;5;28;01mif\u001b[39;00m validate_prime:\n\u001b[32m---> \u001b[39m\u001b[32m36\u001b[39m     \u001b[43mvalidate_primes\u001b[49m\u001b[43m(\u001b[49m\u001b[43md\u001b[49m\u001b[43m)\u001b[49m\n\u001b[32m     37\u001b[39m attrs[\u001b[33m'\u001b[39m\u001b[33m_d\u001b[39m\u001b[33m'\u001b[39m] = d\n\u001b[32m     38\u001b[39m attrs[\u001b[33m'\u001b[39m\u001b[33md\u001b[39m\u001b[33m'\u001b[39m] = dprop\n",
      "\u001b[36mFile \u001b[39m\u001b[32mc:\\Users\\zacat\\Documents\\Python Scripts\\qclif\\qclif\\_qclifBase\\validation.py:9\u001b[39m, in \u001b[36mvalidate_primes\u001b[39m\u001b[34m(*args)\u001b[39m\n\u001b[32m      7\u001b[39m \u001b[38;5;28;01mfor\u001b[39;00m x \u001b[38;5;129;01min\u001b[39;00m args:\n\u001b[32m      8\u001b[39m     \u001b[38;5;28;01mif\u001b[39;00m \u001b[38;5;129;01mnot\u001b[39;00m sp.isprime(x):\n\u001b[32m----> \u001b[39m\u001b[32m9\u001b[39m         \u001b[38;5;28;01mraise\u001b[39;00m \u001b[38;5;167;01mValueError\u001b[39;00m(\u001b[33m\"\u001b[39m\u001b[33mInput must be prime\u001b[39m\u001b[33m\"\u001b[39m, x)\n",
      "\u001b[31mValueError\u001b[39m: ('Input must be prime', 4)"
     ]
    }
   ],
   "source": [
    "class CD5(qclif.CliffordBase):\n",
    "    # _validate_prime=False\n",
    "    d=4"
   ]
  },
  {
   "cell_type": "code",
   "execution_count": null,
   "id": "33415054",
   "metadata": {},
   "outputs": [],
   "source": [
    "CD5.random_symplectic(n=1)"
   ]
  },
  {
   "cell_type": "code",
   "execution_count": null,
   "id": "39c5e760",
   "metadata": {},
   "outputs": [],
   "source": [
    "class A:\n",
    "    def method(self, num):\n",
    "        print(num)"
   ]
  },
  {
   "cell_type": "code",
   "execution_count": null,
   "id": "25d240db",
   "metadata": {},
   "outputs": [],
   "source": [
    "class B(A):...\n",
    "class C(B):\n",
    "    def method(self, num):\n",
    "        super().method(num)"
   ]
  },
  {
   "cell_type": "code",
   "execution_count": null,
   "id": "5d0abc0e",
   "metadata": {},
   "outputs": [],
   "source": [
    "C().method(5)"
   ]
  },
  {
   "cell_type": "code",
   "execution_count": null,
   "id": "6b489fb6",
   "metadata": {},
   "outputs": [],
   "source": []
  }
 ],
 "metadata": {
  "kernelspec": {
   "display_name": "venv-dev",
   "language": "python",
   "name": "python3"
  },
  "language_info": {
   "codemirror_mode": {
    "name": "ipython",
    "version": 3
   },
   "file_extension": ".py",
   "mimetype": "text/x-python",
   "name": "python",
   "nbconvert_exporter": "python",
   "pygments_lexer": "ipython3",
   "version": "3.13.2"
  }
 },
 "nbformat": 4,
 "nbformat_minor": 5
}
