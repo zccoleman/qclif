{
 "cells": [
  {
   "cell_type": "code",
   "execution_count": 1,
   "id": "84d54fb4",
   "metadata": {},
   "outputs": [],
   "source": [
    "from qclif import DnaryArrayBase, SymplecticArrayBase\n",
    "import numpy as np\n",
    "from qclif.dnary_arithmetic import *"
   ]
  },
  {
   "cell_type": "code",
   "execution_count": 2,
   "id": "5b86596b",
   "metadata": {},
   "outputs": [
    {
     "data": {
      "text/plain": [
       "D3([1, 2, 0, 1])"
      ]
     },
     "execution_count": 2,
     "metadata": {},
     "output_type": "execute_result"
    }
   ],
   "source": [
    "class D3(DnaryArrayBase): d=3\n",
    "class D6(DnaryArrayBase): d=6\n",
    "D3([1,2,3,4])"
   ]
  },
  {
   "cell_type": "code",
   "execution_count": 2,
   "id": "b75ab839",
   "metadata": {},
   "outputs": [
    {
     "data": {
      "text/plain": [
       "2"
      ]
     },
     "execution_count": 2,
     "metadata": {},
     "output_type": "execute_result"
    }
   ],
   "source": [
    "class S3(SymplecticArrayBase): d=3\n",
    "v1 = S3([1, 0, 0, 0])\n",
    "v2 = S3([0, 0, 1, 0])\n",
    "v1 | v2"
   ]
  },
  {
   "cell_type": "code",
   "execution_count": 3,
   "id": "239a7939",
   "metadata": {},
   "outputs": [
    {
     "data": {
      "text/plain": [
       "D3([0, 0, 1, 0, 0])"
      ]
     },
     "execution_count": 3,
     "metadata": {},
     "output_type": "execute_result"
    }
   ],
   "source": [
    "D3.basis_vector(2, 5)"
   ]
  },
  {
   "cell_type": "code",
   "execution_count": 4,
   "id": "f03b44e5",
   "metadata": {},
   "outputs": [
    {
     "data": {
      "text/plain": [
       "D6([4, 0])"
      ]
     },
     "execution_count": 4,
     "metadata": {},
     "output_type": "execute_result"
    }
   ],
   "source": [
    "(2 * D6.eye(2)) @ [2,3]"
   ]
  },
  {
   "cell_type": "code",
   "execution_count": 5,
   "id": "f2961206",
   "metadata": {},
   "outputs": [
    {
     "data": {
      "text/plain": [
       "D2([0, 1])"
      ]
     },
     "execution_count": 5,
     "metadata": {},
     "output_type": "execute_result"
    }
   ],
   "source": [
    "class D2(DnaryArrayBase): d=2\n",
    "D2([[0,1],[1,0]]) @ D2([1,0])"
   ]
  },
  {
   "cell_type": "code",
   "execution_count": 6,
   "id": "003df1bc",
   "metadata": {},
   "outputs": [
    {
     "data": {
      "text/plain": [
       "array([142220472], dtype=int32)"
      ]
     },
     "execution_count": 6,
     "metadata": {},
     "output_type": "execute_result"
    }
   ],
   "source": [
    "import math\n",
    "shape = (4,3)\n",
    "count = math.prod(shape)\n",
    "d=5\n",
    "\n",
    "np.random.randint(1, d**count, size=1)"
   ]
  },
  {
   "cell_type": "code",
   "execution_count": 7,
   "id": "e6d368c1",
   "metadata": {},
   "outputs": [],
   "source": [
    "from qclif.dnary_arithmetic import int_to_dnary "
   ]
  },
  {
   "cell_type": "code",
   "execution_count": 13,
   "id": "173038ab",
   "metadata": {},
   "outputs": [
    {
     "name": "stderr",
     "output_type": "stream",
     "text": [
      "d:\\Users\\Zac\\Documents\\Python Scripts\\qclif\\qclif\\dnary_array.py:63: SyntaxWarning: invalid escape sequence '\\m'\n",
      "  \"\"\"A $d$-nary integer `numpy` array. Use as a normal `numpy`,\n",
      "d:\\Users\\Zac\\Documents\\Python Scripts\\qclif\\qclif\\dnary_array.py:206: SyntaxWarning: invalid escape sequence '\\s'\n",
      "  \"\"\"Alias for [`int_to_dnary(n, cls.d)`][qclif.dnary_arithmetic.int_to_dnary].\n"
     ]
    },
    {
     "ename": "LinAlgError",
     "evalue": "1-dimensional array given. Array must be at least two-dimensional",
     "output_type": "error",
     "traceback": [
      "\u001b[31m---------------------------------------------------------------------------\u001b[39m",
      "\u001b[31mValueError\u001b[39m                                Traceback (most recent call last)",
      "\u001b[36mFile \u001b[39m\u001b[32md:\\Users\\Zac\\Documents\\Python Scripts\\qclif\\venv\\Lib\\site-packages\\numpy\\linalg\\_linalg.py:259\u001b[39m, in \u001b[36m_assert_stacked_square\u001b[39m\u001b[34m(*arrays)\u001b[39m\n\u001b[32m    258\u001b[39m \u001b[38;5;28;01mtry\u001b[39;00m:\n\u001b[32m--> \u001b[39m\u001b[32m259\u001b[39m     m, n = a.shape[-\u001b[32m2\u001b[39m:]\n\u001b[32m    260\u001b[39m \u001b[38;5;28;01mexcept\u001b[39;00m \u001b[38;5;167;01mValueError\u001b[39;00m:\n",
      "\u001b[31mValueError\u001b[39m: not enough values to unpack (expected 2, got 1)",
      "\nDuring handling of the above exception, another exception occurred:\n",
      "\u001b[31mLinAlgError\u001b[39m                               Traceback (most recent call last)",
      "\u001b[36mCell\u001b[39m\u001b[36m \u001b[39m\u001b[32mIn[13]\u001b[39m\u001b[32m, line 2\u001b[39m\n\u001b[32m      1\u001b[39m a = D2.random_array((\u001b[32m5\u001b[39m), allow_zero=\u001b[38;5;28;01mFalse\u001b[39;00m)\n\u001b[32m----> \u001b[39m\u001b[32m2\u001b[39m \u001b[43ma\u001b[49m\u001b[43m.\u001b[49m\u001b[43mdeterminant\u001b[49m\u001b[43m(\u001b[49m\u001b[43m)\u001b[49m\n",
      "\u001b[36mFile \u001b[39m\u001b[32md:\\Users\\Zac\\Documents\\Python Scripts\\qclif\\qclif\\dnary_array.py:327\u001b[39m, in \u001b[36mdeterminant\u001b[39m\u001b[34m(self)\u001b[39m\n\u001b[32m    323\u001b[39m \u001b[38;5;28;01mdef\u001b[39;00m\u001b[38;5;250m \u001b[39m\u001b[34mdeterminant\u001b[39m(\u001b[38;5;28mself\u001b[39m) -> \u001b[38;5;28mint\u001b[39m:\n\u001b[32m    324\u001b[39m \u001b[38;5;250m    \u001b[39m\u001b[33;03m\"\"\"\u001b[39;00m\n\u001b[32m    325\u001b[39m \u001b[33;03m    Returns:\u001b[39;00m\n\u001b[32m    326\u001b[39m \u001b[33;03m        int: The determinant of the array modulo d.\u001b[39;00m\n\u001b[32m--> \u001b[39m\u001b[32m327\u001b[39m \u001b[33;03m    \"\"\"\u001b[39;00m\n\u001b[32m    328\u001b[39m     \u001b[38;5;28;01mreturn\u001b[39;00m rint(np.linalg.det(\u001b[38;5;28mself\u001b[39m)) % \u001b[38;5;28mself\u001b[39m.d\n",
      "\u001b[36mFile \u001b[39m\u001b[32md:\\Users\\Zac\\Documents\\Python Scripts\\qclif\\venv\\Lib\\site-packages\\numpy\\linalg\\_linalg.py:2427\u001b[39m, in \u001b[36mdet\u001b[39m\u001b[34m(a)\u001b[39m\n\u001b[32m   2381\u001b[39m \u001b[38;5;250m\u001b[39m\u001b[33;03m\"\"\"\u001b[39;00m\n\u001b[32m   2382\u001b[39m \u001b[33;03mCompute the determinant of an array.\u001b[39;00m\n\u001b[32m   2383\u001b[39m \n\u001b[32m   (...)\u001b[39m\u001b[32m   2424\u001b[39m \n\u001b[32m   2425\u001b[39m \u001b[33;03m\"\"\"\u001b[39;00m\n\u001b[32m   2426\u001b[39m a = asarray(a)\n\u001b[32m-> \u001b[39m\u001b[32m2427\u001b[39m \u001b[43m_assert_stacked_square\u001b[49m\u001b[43m(\u001b[49m\u001b[43ma\u001b[49m\u001b[43m)\u001b[49m\n\u001b[32m   2428\u001b[39m t, result_t = _commonType(a)\n\u001b[32m   2429\u001b[39m signature = \u001b[33m'\u001b[39m\u001b[33mD->D\u001b[39m\u001b[33m'\u001b[39m \u001b[38;5;28;01mif\u001b[39;00m isComplexType(t) \u001b[38;5;28;01melse\u001b[39;00m \u001b[33m'\u001b[39m\u001b[33md->d\u001b[39m\u001b[33m'\u001b[39m\n",
      "\u001b[36mFile \u001b[39m\u001b[32md:\\Users\\Zac\\Documents\\Python Scripts\\qclif\\venv\\Lib\\site-packages\\numpy\\linalg\\_linalg.py:261\u001b[39m, in \u001b[36m_assert_stacked_square\u001b[39m\u001b[34m(*arrays)\u001b[39m\n\u001b[32m    259\u001b[39m     m, n = a.shape[-\u001b[32m2\u001b[39m:]\n\u001b[32m    260\u001b[39m \u001b[38;5;28;01mexcept\u001b[39;00m \u001b[38;5;167;01mValueError\u001b[39;00m:\n\u001b[32m--> \u001b[39m\u001b[32m261\u001b[39m     \u001b[38;5;28;01mraise\u001b[39;00m LinAlgError(\u001b[33m'\u001b[39m\u001b[38;5;132;01m%d\u001b[39;00m\u001b[33m-dimensional array given. Array must be \u001b[39m\u001b[33m'\u001b[39m\n\u001b[32m    262\u001b[39m             \u001b[33m'\u001b[39m\u001b[33mat least two-dimensional\u001b[39m\u001b[33m'\u001b[39m % a.ndim)\n\u001b[32m    263\u001b[39m \u001b[38;5;28;01mif\u001b[39;00m m != n:\n\u001b[32m    264\u001b[39m     \u001b[38;5;28;01mraise\u001b[39;00m LinAlgError(\u001b[33m'\u001b[39m\u001b[33mLast 2 dimensions of the array must be square\u001b[39m\u001b[33m'\u001b[39m)\n",
      "\u001b[31mLinAlgError\u001b[39m: 1-dimensional array given. Array must be at least two-dimensional"
     ]
    }
   ],
   "source": [
    "a = D2.random_array((5), allow_zero=False)\n",
    "a.determinant()"
   ]
  },
  {
   "cell_type": "code",
   "execution_count": 9,
   "id": "30649469",
   "metadata": {},
   "outputs": [
    {
     "data": {
      "text/plain": [
       "1"
      ]
     },
     "execution_count": 9,
     "metadata": {},
     "output_type": "execute_result"
    }
   ],
   "source": [
    "np.random.randint(1, 3)"
   ]
  },
  {
   "cell_type": "code",
   "execution_count": 10,
   "id": "e1f77b1f",
   "metadata": {},
   "outputs": [
    {
     "data": {
      "text/plain": [
       "[0]"
      ]
     },
     "execution_count": 10,
     "metadata": {},
     "output_type": "execute_result"
    }
   ],
   "source": [
    "[np.random.randint(low=0, high=dim) for dim in a.shape]"
   ]
  },
  {
   "cell_type": "code",
   "execution_count": 11,
   "id": "e41a9646",
   "metadata": {},
   "outputs": [
    {
     "ename": "IndexError",
     "evalue": "too many indices for array: array is 1-dimensional, but 3 were indexed",
     "output_type": "error",
     "traceback": [
      "\u001b[31m---------------------------------------------------------------------------\u001b[39m",
      "\u001b[31mIndexError\u001b[39m                                Traceback (most recent call last)",
      "\u001b[36mCell\u001b[39m\u001b[36m \u001b[39m\u001b[32mIn[11]\u001b[39m\u001b[32m, line 2\u001b[39m\n\u001b[32m      1\u001b[39m l = [\u001b[32m2\u001b[39m,\u001b[32m1\u001b[39m,\u001b[32m0\u001b[39m]\n\u001b[32m----> \u001b[39m\u001b[32m2\u001b[39m \u001b[43ma\u001b[49m\u001b[43m[\u001b[49m\u001b[43m*\u001b[49m\u001b[43ml\u001b[49m\u001b[43m]\u001b[49m=\u001b[32m10\u001b[39m\n\u001b[32m      3\u001b[39m a\n",
      "\u001b[31mIndexError\u001b[39m: too many indices for array: array is 1-dimensional, but 3 were indexed"
     ]
    }
   ],
   "source": [
    "l = [2,1,0]\n",
    "a[*l]=10\n",
    "a"
   ]
  },
  {
   "cell_type": "code",
   "execution_count": null,
   "id": "ae3ceca5",
   "metadata": {},
   "outputs": [],
   "source": []
  }
 ],
 "metadata": {
  "kernelspec": {
   "display_name": "venv",
   "language": "python",
   "name": "python3"
  },
  "language_info": {
   "codemirror_mode": {
    "name": "ipython",
    "version": 3
   },
   "file_extension": ".py",
   "mimetype": "text/x-python",
   "name": "python",
   "nbconvert_exporter": "python",
   "pygments_lexer": "ipython3",
   "version": "3.13.2"
  }
 },
 "nbformat": 4,
 "nbformat_minor": 5
}
