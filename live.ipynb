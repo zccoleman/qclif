{
 "cells": [
  {
   "cell_type": "code",
   "execution_count": 2,
   "id": "84d54fb4",
   "metadata": {},
   "outputs": [],
   "source": [
    "from qclif import DnaryArrayBase, SymplecticArrayBase\n",
    "import numpy as np\n",
    "from qclif.dnary_arithmetic import *"
   ]
  },
  {
   "cell_type": "code",
   "execution_count": 5,
   "id": "5b86596b",
   "metadata": {},
   "outputs": [
    {
     "data": {
      "text/plain": [
       "DnaryArrayBase(d=3)([1, 2, 0, 1])"
      ]
     },
     "execution_count": 5,
     "metadata": {},
     "output_type": "execute_result"
    }
   ],
   "source": [
    "D3 = DnaryArrayBase.set_d(3)\n",
    "D3([1, 2, 3, 4])"
   ]
  },
  {
   "cell_type": "code",
   "execution_count": null,
   "id": "b75ab839",
   "metadata": {},
   "outputs": [],
   "source": [
    "class S3(SymplecticArrayBase): d=3\n",
    "v1 = S3([1, 0, 0, 0])\n",
    "v2 = S3([0, 0, 1, 0])\n",
    "v1 | v2"
   ]
  },
  {
   "cell_type": "code",
   "execution_count": null,
   "id": "239a7939",
   "metadata": {},
   "outputs": [],
   "source": [
    "D3.basis_vector(2, 5)"
   ]
  },
  {
   "cell_type": "code",
   "execution_count": null,
   "id": "f03b44e5",
   "metadata": {},
   "outputs": [],
   "source": [
    "(2 * D6.eye(2)) @ [2,3]"
   ]
  },
  {
   "cell_type": "code",
   "execution_count": null,
   "id": "f2961206",
   "metadata": {},
   "outputs": [],
   "source": [
    "class D2(DnaryArrayBase): d=2\n",
    "D2([[0,1],[1,0]]) @ D2([1,0])"
   ]
  },
  {
   "cell_type": "code",
   "execution_count": null,
   "id": "003df1bc",
   "metadata": {},
   "outputs": [],
   "source": [
    "import math\n",
    "shape = (4,3)\n",
    "count = math.prod(shape)\n",
    "d=5\n",
    "\n",
    "np.random.randint(1, d**count, size=1)"
   ]
  },
  {
   "cell_type": "code",
   "execution_count": null,
   "id": "e6d368c1",
   "metadata": {},
   "outputs": [],
   "source": [
    "from qclif.dnary_arithmetic import int_to_dnary "
   ]
  },
  {
   "cell_type": "code",
   "execution_count": null,
   "id": "173038ab",
   "metadata": {},
   "outputs": [],
   "source": [
    "a = D2.random_array((5), allow_zero=False)\n",
    "a.determinant()"
   ]
  },
  {
   "cell_type": "code",
   "execution_count": null,
   "id": "30649469",
   "metadata": {},
   "outputs": [],
   "source": [
    "np.random.randint(1, 3)"
   ]
  },
  {
   "cell_type": "code",
   "execution_count": null,
   "id": "e1f77b1f",
   "metadata": {},
   "outputs": [],
   "source": [
    "[np.random.randint(low=0, high=dim) for dim in a.shape]"
   ]
  },
  {
   "cell_type": "code",
   "execution_count": null,
   "id": "e41a9646",
   "metadata": {},
   "outputs": [],
   "source": [
    "l = [2,1,0]\n",
    "a[*l]=10\n",
    "a"
   ]
  },
  {
   "cell_type": "code",
   "execution_count": null,
   "id": "ae3ceca5",
   "metadata": {},
   "outputs": [],
   "source": []
  }
 ],
 "metadata": {
  "kernelspec": {
   "display_name": "venv",
   "language": "python",
   "name": "python3"
  },
  "language_info": {
   "codemirror_mode": {
    "name": "ipython",
    "version": 3
   },
   "file_extension": ".py",
   "mimetype": "text/x-python",
   "name": "python",
   "nbconvert_exporter": "python",
   "pygments_lexer": "ipython3",
   "version": "3.13.2"
  }
 },
 "nbformat": 4,
 "nbformat_minor": 5
}
